{
 "cells": [
  {
   "cell_type": "code",
   "execution_count": null,
   "id": "d1339fd8-2bd1-4bd0-b8d2-60b9f330f071",
   "metadata": {},
   "outputs": [],
   "source": []
  }
 ],
 "metadata": {
  "kernelspec": {
   "display_name": "",
   "name": ""
  },
  "language_info": {
   "name": ""
  }
 },
 "nbformat": 4,
 "nbformat_minor": 5
}
